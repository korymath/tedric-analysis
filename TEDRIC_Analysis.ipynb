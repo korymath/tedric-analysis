{
 "cells": [
  {
   "cell_type": "code",
   "execution_count": 1,
   "metadata": {},
   "outputs": [],
   "source": [
    "import pandas as pd\n",
    "import seaborn as sns\n",
    "from scipy import stats\n",
    "import copy\n",
    "import matplotlib.pyplot as plt\n",
    "import numpy as np\n",
    "import matplotlib\n",
    "\n",
    "sns.set(style=\"whitegrid\")"
   ]
  },
  {
   "cell_type": "code",
   "execution_count": 5,
   "metadata": {},
   "outputs": [
    {
     "data": {
      "text/html": [
       "<div>\n",
       "<style scoped>\n",
       "    .dataframe tbody tr th:only-of-type {\n",
       "        vertical-align: middle;\n",
       "    }\n",
       "\n",
       "    .dataframe tbody tr th {\n",
       "        vertical-align: top;\n",
       "    }\n",
       "\n",
       "    .dataframe thead th {\n",
       "        text-align: right;\n",
       "    }\n",
       "</style>\n",
       "<table border=\"1\" class=\"dataframe\">\n",
       "  <thead>\n",
       "    <tr style=\"text-align: right;\">\n",
       "      <th></th>\n",
       "      <th>Creator</th>\n",
       "      <th>Talk number</th>\n",
       "      <th>Overall Talk Quality</th>\n",
       "      <th>Powerpoint Quality</th>\n",
       "    </tr>\n",
       "  </thead>\n",
       "  <tbody>\n",
       "    <tr>\n",
       "      <th>0</th>\n",
       "      <td>H</td>\n",
       "      <td>1</td>\n",
       "      <td>4</td>\n",
       "      <td>4</td>\n",
       "    </tr>\n",
       "    <tr>\n",
       "      <th>1</th>\n",
       "      <td>G</td>\n",
       "      <td>2</td>\n",
       "      <td>4</td>\n",
       "      <td>5</td>\n",
       "    </tr>\n",
       "    <tr>\n",
       "      <th>2</th>\n",
       "      <td>H</td>\n",
       "      <td>3</td>\n",
       "      <td>3</td>\n",
       "      <td>3</td>\n",
       "    </tr>\n",
       "    <tr>\n",
       "      <th>3</th>\n",
       "      <td>G</td>\n",
       "      <td>4</td>\n",
       "      <td>5</td>\n",
       "      <td>4</td>\n",
       "    </tr>\n",
       "    <tr>\n",
       "      <th>4</th>\n",
       "      <td>H</td>\n",
       "      <td>5</td>\n",
       "      <td>4</td>\n",
       "      <td>4</td>\n",
       "    </tr>\n",
       "  </tbody>\n",
       "</table>\n",
       "</div>"
      ],
      "text/plain": [
       "  Creator  Talk number  Overall Talk Quality  Powerpoint Quality\n",
       "0       H            1                     4                   4\n",
       "1       G            2                     4                   5\n",
       "2       H            3                     3                   3\n",
       "3       G            4                     5                   4\n",
       "4       H            5                     4                   4"
      ]
     },
     "execution_count": 5,
     "metadata": {},
     "output_type": "execute_result"
    }
   ],
   "source": [
    "df = pd.read_csv('evaluation.csv')\n",
    "df.head()"
   ]
  },
  {
   "cell_type": "code",
   "execution_count": 6,
   "metadata": {},
   "outputs": [
    {
     "data": {
      "image/png": "[encoded data removed]",
      "text/plain": [
       "<Figure size 360x360 with 1 Axes>"
      ]
     },
     "metadata": {},
     "output_type": "display_data"
    }
   ],
   "source": [
    "df = df.replace('H', 'Human')\n",
    "df = df.replace('G', 'TEDRIC')\n",
    "\n",
    "sns.set(font_scale=1.5)\n",
    "\n",
    "g = sns.catplot(x=\"Creator\",\n",
    "                y=\"Powerpoint Quality\", \n",
    "                kind='box',\n",
    "                data=df)\n",
    "\n",
    "axes = g.axes\n",
    "axes[0,0].set_ylim(0.9,5.2)\n",
    "\n",
    "# Save\n",
    "g.savefig(\"powerpoint_quality_boxplot.png\") \n",
    "g.savefig(\"powerpoint_quality_boxplot.eps\") "
   ]
  },
  {
   "cell_type": "code",
   "execution_count": 7,
   "metadata": {},
   "outputs": [
    {
     "ename": "AttributeError",
     "evalue": "module 'seaborn' has no attribute 'plt'",
     "output_type": "error",
     "traceback": [
      "\u001b[1;31m---------------------------------------------------------------------------\u001b[0m",
      "\u001b[1;31mAttributeError\u001b[0m                            Traceback (most recent call last)",
      "\u001b[1;32m<ipython-input-7-793b551d81bd>\u001b[0m in \u001b[0;36m<module>\u001b[1;34m()\u001b[0m\n\u001b[0;32m      3\u001b[0m \u001b[1;31m# print(df)\u001b[0m\u001b[1;33m\u001b[0m\u001b[1;33m\u001b[0m\u001b[0m\n\u001b[0;32m      4\u001b[0m \u001b[1;33m\u001b[0m\u001b[0m\n\u001b[1;32m----> 5\u001b[1;33m \u001b[0msns\u001b[0m\u001b[1;33m.\u001b[0m\u001b[0mplt\u001b[0m\u001b[1;33m.\u001b[0m\u001b[0mxlim\u001b[0m\u001b[1;33m(\u001b[0m\u001b[1;36m1\u001b[0m\u001b[1;33m,\u001b[0m\u001b[1;36m5\u001b[0m\u001b[1;33m)\u001b[0m\u001b[1;33m\u001b[0m\u001b[0m\n\u001b[0m\u001b[0;32m      6\u001b[0m \u001b[0mg\u001b[0m\u001b[1;33m=\u001b[0m \u001b[0msns\u001b[0m\u001b[1;33m.\u001b[0m\u001b[0mcatplot\u001b[0m\u001b[1;33m(\u001b[0m\u001b[0mx\u001b[0m\u001b[1;33m=\u001b[0m\u001b[1;34m\"Powerpoint Quality\"\u001b[0m\u001b[1;33m,\u001b[0m\u001b[0mhue\u001b[0m\u001b[1;33m=\u001b[0m\u001b[1;34m\"Creator\"\u001b[0m\u001b[1;33m,\u001b[0m  \u001b[0mkind\u001b[0m\u001b[1;33m=\u001b[0m\u001b[1;34m\"count\"\u001b[0m\u001b[1;33m,\u001b[0m \u001b[0mdata\u001b[0m\u001b[1;33m=\u001b[0m\u001b[0mdf\u001b[0m\u001b[1;33m)\u001b[0m\u001b[1;33m;\u001b[0m\u001b[1;33m\u001b[0m\u001b[0m\n\u001b[0;32m      7\u001b[0m \u001b[1;33m\u001b[0m\u001b[0m\n",
      "\u001b[1;31mAttributeError\u001b[0m: module 'seaborn' has no attribute 'plt'"
     ]
    }
   ],
   "source": [
    "sns.set(font_scale=1.8)\n",
    "\n",
    "# print(df)\n",
    "\n",
    "sns.plt.xlim(1,5)\n",
    "g= sns.catplot(x=\"Powerpoint Quality\",hue=\"Creator\",  kind=\"count\", data=df);\n",
    "\n",
    "# axes = g.axes\n",
    "# axes[0,0].set_xlim(1,5)\n",
    "\n",
    "# Save\n",
    "g.savefig(\"powerpoint_quality_histogram.png\") \n",
    "g.savefig(\"powerpoint_quality_histogram.eps\") "
   ]
  },
  {
   "cell_type": "code",
   "execution_count": null,
   "metadata": {},
   "outputs": [],
   "source": [
    "sns.set(font_scale=1.5)\n",
    "\n",
    "g = sns.catplot(x=\"Creator\",\n",
    "                y=\"Overall Talk Quality\", \n",
    "                kind='box',\n",
    "                data=df)\n",
    "\n",
    "axes = g.axes\n",
    "axes[0,0].set_ylim(0.9,5.2)\n",
    "\n",
    "# Save\n",
    "g.savefig(\"overall_talk_quality_boxplot.png\") \n",
    "g.savefig(\"overall_talk_quality_boxplot.eps\") "
   ]
  },
  {
   "cell_type": "code",
   "execution_count": null,
   "metadata": {},
   "outputs": [],
   "source": [
    "human = df.loc[df['Creator'] == 'Human']['Powerpoint Quality']\n",
    "tedric = df.loc[df['Creator'] == 'TEDRIC']['Powerpoint Quality']\n",
    "stat, p = stats.ttest_ind(human, tedric)\n",
    "print('Statistics=%.3f, p=%.3f' % (stat, p))\n",
    "# interpret\n",
    "alpha = 0.05\n",
    "if p > alpha:\n",
    "    print('Same distribution (fail to reject H0)')\n",
    "else:\n",
    "    print('Different distribution (reject H0)')"
   ]
  },
  {
   "cell_type": "code",
   "execution_count": null,
   "metadata": {},
   "outputs": [],
   "source": [
    "## MannWhitney Test\n",
    "\n",
    "stat, p = stats.mannwhitneyu(human, tedric)\n",
    "print('Statistics=%.3f, p=%.3f' % (stat, p))\n",
    "\n",
    "# interpret\n",
    "alpha = 0.05\n",
    "if p > alpha:\n",
    "    print('Same distribution (fail to reject H0)')\n",
    "else:\n",
    "    print('Different distribution (reject H0)')"
   ]
  },
  {
   "cell_type": "code",
   "execution_count": null,
   "metadata": {},
   "outputs": [],
   "source": [
    "print(len(human))\n",
    "\n",
    "stat, p = stats.wilcoxon(human, tedric)\n",
    "print('Statistics=%.3f, p=%.3f' % (stat, p))\n",
    "# interpret\n",
    "alpha = 0.05\n",
    "if p > alpha:\n",
    "    print('Same distribution (fail to reject H0)')\n",
    "else:\n",
    "    print('Different distribution (reject H0)')"
   ]
  },
  {
   "cell_type": "code",
   "execution_count": null,
   "metadata": {},
   "outputs": [],
   "source": [
    "df_raw = pd.read_csv('raw_data.csv')\n",
    "df_raw.head()\n",
    "df_raw['Creator'] = df['Creator']"
   ]
  },
  {
   "cell_type": "code",
   "execution_count": null,
   "metadata": {},
   "outputs": [],
   "source": [
    "sns.catplot(x=\"Creator\", y=\"Powerpoint Quality\", \n",
    "            hue=\"Evaluator ID\", kind=\"point\", \n",
    "            data=df_raw);"
   ]
  },
  {
   "cell_type": "code",
   "execution_count": 14,
   "metadata": {},
   "outputs": [
    {
     "data": {
      "image/png": "[encoded data removed]",
      "text/plain": [
       "<Figure size 1008x360 with 1 Axes>"
      ]
     },
     "metadata": {
      "needs_background": "light"
     },
     "output_type": "display_data"
    }
   ],
   "source": [
    "timing_data = pd.read_csv('timings.csv')\n",
    "bin_width = 2\n",
    "max_bin = 32\n",
    "bins = np.arange(-bin_width,max_bin,bin_width)\n",
    "\n",
    "\n",
    "\n",
    "\n",
    "fig, ax = plt.subplots(figsize=(14, 5))\n",
    "_, bins, patches = plt.hist(x=np.clip(timing_data['total_time'], bins[0], bins[-1]),\n",
    "                            bins=bins)\n",
    "\n",
    "xlabels = bins[1:].astype(str)\n",
    "xlabels[-1] += '+'\n",
    "\n",
    "N_labels = len(xlabels)\n",
    "plt.xlim([0, max_bin])\n",
    "plt.xticks(bin_width*np.arange(N_labels), fontsize=20)\n",
    "ax.set_xticklabels(xlabels)\n",
    "\n",
    "plt.yticks(np.arange(0,150,25), fontsize=20)\n",
    "plt.xlabel('Total generation time in seconds', fontsize=24)\n",
    "plt.ylabel('Number of slide decks', fontsize=24)\n",
    "plt.title('Slide deck generation time for 500 common nouns as topic', fontsize=30)\n",
    "# plt.setp(patches, linewidth=0)\n",
    "# plt.legend(loc='upper left')\n",
    "\n",
    "fig.tight_layout()\n",
    "plt.savefig(\"timings_histogram.eps\") "
   ]
  },
  {
   "cell_type": "code",
   "execution_count": 17,
   "metadata": {},
   "outputs": [
    {
     "name": "stdout",
     "output_type": "stream",
     "text": [
      "472\n"
     ]
    }
   ],
   "source": [
    "less_than_20_seconds = timing_data.loc[timing_data['total_time'] < 20]\n",
    "print(len(less_than_20_seconds))"
   ]
  },
  {
   "cell_type": "code",
   "execution_count": null,
   "metadata": {},
   "outputs": [],
   "source": []
  },
  {
   "cell_type": "code",
   "execution_count": null,
   "metadata": {},
   "outputs": [],
   "source": []
  }
 ],
 "metadata": {
  "kernelspec": {
   "display_name": "Python 3",
   "language": "python",
   "name": "python3"
  },
  "language_info": {
   "codemirror_mode": {
    "name": "ipython",
    "version": 3
   },
   "file_extension": ".py",
   "mimetype": "text/x-python",
   "name": "python",
   "nbconvert_exporter": "python",
   "pygments_lexer": "ipython3",
   "version": "3.7.0"
  }
 },
 "nbformat": 4,
 "nbformat_minor": 2
}
